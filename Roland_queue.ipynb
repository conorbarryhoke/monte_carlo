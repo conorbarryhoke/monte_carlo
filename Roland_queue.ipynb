{
 "cells": [
  {
   "cell_type": "code",
   "execution_count": 71,
   "metadata": {},
   "outputs": [],
   "source": [
    "import threading\n",
    "from collections import deque\n",
    "import time\n",
    "import numpy as np\n",
    "\n",
    "class Customer(object):\n",
    "    name = \"\"\n",
    "    tick_entered_queue = -1\n",
    "    ticks_waiting = 0\n",
    "    tick_answered = -1\n",
    "    \n",
    "    def __init__(self, name, tick_entered_queue=tick_entered_queue, ticks_waiting = 0):\n",
    "        self.name = name\n",
    "        self.tick_entered_queue = tick_entered_queue\n",
    "        self.ticks_waiting = ticks_waiting\n",
    "        \n",
    "    def time_in_queue(self, current_tick):\n",
    "        if self.tick_entered_queue == -1:\n",
    "            raise ValueError('Customer has not entered queue yet.')\n",
    "            return -1\n",
    "        else:\n",
    "            return current_tick - self.tick_entered_queue\n",
    "            \n",
    "    \n",
    "class Representative(object):\n",
    "    name = \"\"\n",
    "    \n",
    "    def __init__(self, name):\n",
    "        self.name = name\n",
    "    "
   ]
  },
  {
   "cell_type": "code",
   "execution_count": 72,
   "metadata": {},
   "outputs": [],
   "source": [
    "customer_queue = deque()\n",
    "rep_queue = deque()\n",
    "representatives = [Representative('bobby'), Representative('tammy'), Representative('johnny'),\n",
    "                   Representative('betty')]\n",
    "#customers = ['Customer1', 'Customer2']\n",
    "rep_queue.extendleft(representatives)"
   ]
  },
  {
   "cell_type": "code",
   "execution_count": 73,
   "metadata": {},
   "outputs": [
    {
     "name": "stdout",
     "output_type": "stream",
     "text": [
      "The Customer_0.11129854983335952 is being served by: johnny\n",
      "The call time for Customer_0.11129854983335952 was: 4\n",
      "The time in queue was: 0 ticks\n",
      "The Customer_0.41282330465555017 is being served by: tammy\n",
      "The call time for Customer_0.41282330465555017 was: 4\n",
      "The time in queue was: -1 ticks\n",
      "The Customer_0.25509458931500995 is being served by: bobby\n",
      "The call time for Customer_0.25509458931500995 was: 4\n",
      "The time in queue was: 0 ticks\n",
      "The Customer_0.35452970432342057 is being served by: betty\n",
      "The call time for Customer_0.35452970432342057 was: 4\n",
      "The time in queue was: -1 ticksThe Customer_0.020682105008966167 is being served by: johnny\n",
      "The call time for Customer_0.020682105008966167 was: 4\n",
      "The time in queue was: 6 ticks\n",
      "The Customer_0.47522161474572344 is being served by: tammy\n",
      "The call time for Customer_0.47522161474572344 was: 4\n",
      "The time in queue was: 5 ticks\n",
      "The Customer_0.49057537700092047 is being served by: bobby\n",
      "The call time for Customer_0.49057537700092047 was: 4\n",
      "The time in queue was: 3 ticks\n",
      "\n",
      "The Customer_0.0016984303917599863 is being served by: johnny\n",
      "The call time for Customer_0.0016984303917599863 was: 4\n",
      "The time in queue was: 14 ticks\n",
      "The Customer_0.04959599561846917 is being served by: tammy\n",
      "The call time for Customer_0.04959599561846917 was: 4\n",
      "The time in queue was: 11 ticks\n",
      "The Customer_0.09860568912701528 is being served by: betty\n",
      "The call time for Customer_0.09860568912701528 was: 4\n",
      "The time in queue was: 9 ticks\n",
      "The Customer_0.4501172035651866 is being served by: bobby\n",
      "The call time for Customer_0.4501172035651866 was: 4\n",
      "The time in queue was: 10 ticks\n",
      "The Customer_0.4157375391251896 is being served by: johnny\n",
      "The call time for Customer_0.4157375391251896 was: 4\n",
      "The time in queue was: 18 ticks\n",
      "The Customer_0.24179183710189978 is being served by: betty\n",
      "The call time for Customer_0.24179183710189978 was: 4\n",
      "The time in queue was: 13 ticks\n",
      "The Customer_0.09641404569289502 is being served by: bobby\n",
      "The call time for Customer_0.09641404569289502 was: 4\n",
      "The time in queue was: 11 ticks\n",
      "The Customer_0.45547842142192085 is being served by: tammy\n",
      "The call time for Customer_0.45547842142192085 was: 4\n",
      "The time in queue was: 15 ticks\n",
      "The Customer_0.22816190561833172 is being served by: johnny\n",
      "The call time for Customer_0.22816190561833172 was: 4\n",
      "The time in queue was: 18 ticks\n",
      "The Customer_0.24328295906614994 is being served by: bobby\n",
      "The call time for Customer_0.24328295906614994 was: 4\n",
      "The time in queue was: 13 ticks\n",
      "The Customer_0.484297800586845 is being served by: tammy\n",
      "The call time for Customer_0.484297800586845 was: 4\n",
      "The time in queue was: 11 ticks\n",
      "The Customer_0.2534241905369148 is being served by: tammy\n",
      "The call time for Customer_0.2534241905369148 was: 4\n",
      "The time in queue was: 18 ticks\n",
      "The Customer_0.26011334449370294 is being served by: johnny\n",
      "The call time for Customer_0.26011334449370294 was: 4\n",
      "The time in queue was: 21 ticks\n",
      "The Customer_0.1827534148033234 is being served by: bobby\n",
      "The call time for Customer_0.1827534148033234 was: 4\n",
      "The time in queue was: 20 ticks\n",
      "The Customer_0.4559597195924209 is being served by: betty\n",
      "The call time for Customer_0.4559597195924209 was: 4\n",
      "The time in queue was: 17 ticks\n",
      "The Customer_0.1267844598412341 is being served by: betty\n",
      "The call time for Customer_0.1267844598412341 was: 4\n",
      "The time in queue was: 27 ticks\n",
      "The Customer_0.23157397338844143 is being served by: bobby\n",
      "The call time for Customer_0.23157397338844143 was: 4\n",
      "The time in queue was: 28 ticks\n",
      "The Customer_0.4236120569872719 is being served by: tammy\n",
      "The call time for Customer_0.4236120569872719 was: 4\n",
      "The time in queue was: 36 ticks\n",
      "The Customer_0.42923700948140875 is being served by: betty\n",
      "The call time for Customer_0.42923700948140875 was: 4\n",
      "The time in queue was: 31 ticks\n",
      "The Customer_0.34809919085946606 is being served by: johnny\n",
      "The call time for Customer_0.34809919085946606 was: 4\n",
      "The time in queue was: 31 ticks\n",
      "The Customer_0.11083340959922683 is being served by: tammy\n",
      "The call time for Customer_0.11083340959922683 was: 4\n",
      "The time in queue was: 29 ticks\n",
      "The Customer_0.0022560664146592524 is being served by: bobby\n",
      "The call time for Customer_0.0022560664146592524 was: 4\n",
      "The time in queue was: 30 ticks\n"
     ]
    }
   ],
   "source": [
    "current_tick = 0\n",
    "# using a list to make our tick count mutable.\n",
    "mutable_tick = [current_tick]\n",
    "\n",
    "while (current_tick < 100): \n",
    "    check_for_customers(customer_queue\n",
    "                        , current_tick\n",
    "                       )\n",
    "    # If we have no customers do next iteration\n",
    "    if len(customer_queue) == 0: \n",
    "        current_tick+=1\n",
    "        mutable_tick[0] = current_tick\n",
    "        continue\n",
    "     # If we have no available reps do next iteration\n",
    "    elif len(rep_queue)  == 0:\n",
    "        current_tick+=1\n",
    "        mutable_tick[0] = current_tick\n",
    "        continue\n",
    "    \n",
    "    threading.Thread(target=pair_people,\n",
    "        args=(customer_queue, rep_queue, mutable_tick),\n",
    "    ).start()\n",
    "    #pair_people(customer_queue, rep_queue, mutable_tick)\n",
    "    current_tick+=1\n",
    "       "
   ]
  },
  {
   "cell_type": "code",
   "execution_count": 70,
   "metadata": {},
   "outputs": [],
   "source": [
    "# This is the driving function. This pairs customers with reps\n",
    "def pair_people(customer_queue, rep_queue, current_tick):\n",
    "    \n",
    "    curr_cust = customer_queue.pop()\n",
    "    curr_rep = rep_queue.pop()\n",
    "    current_tick_value = current_tick[0]\n",
    "    curr_cust.tick_answerd = current_tick_value\n",
    "    \n",
    "    while (current_tick[0] - current_tick_value) < curr_cust.ticks_waiting:\n",
    "        continue\n",
    "        \n",
    "    do_shit(curr_cust, curr_rep, current_tick_value)\n",
    "    \n",
    "    # put our rep back into the queue\n",
    "    rep_queue.appendleft(curr_rep)\n",
    "    \n",
    "# place holder function for logging events\n",
    "def do_shit(curr_cust, curr_rep, current_tick_value):\n",
    "    print(\"The \" + curr_cust.name + \" is being served by: \" + curr_rep.name + \"\\n\" +\n",
    "        \"The call time for \" + curr_cust.name + \" was: \" + str(curr_cust.ticks_waiting) + \"\\n\" +\n",
    "        \"The time in queue was: \" + str(curr_cust.time_in_queue(current_tick_value)) + \" ticks\"\n",
    "         )\n",
    "    \n",
    "\n",
    "# method for updating how customers enter the queue\n",
    "def check_for_customers(customer_queue, current_tick, use_ticks = False, random_rate = .5):\n",
    "    if use_ticks:\n",
    "        customer_queue.extendleft(get_customers_at_tick(current_tick))\n",
    "    else:\n",
    "        rate = np.random.rand()\n",
    "        if rate <= random_rate:\n",
    "            customer_queue.appendleft(Customer(\"Customer_\" + str(rate), \n",
    "                                               #ticks_waiting=np.random.randint(0,10),\n",
    "                                                ticks_waiting=4,\n",
    "                                              tick_entered_queue = current_tick))\n",
    "        \n",
    "def get_customers_at_tick(tick):\n",
    "    if tick == 5:\n",
    "        return [Customer('Customer_from_tick')]\n",
    "    else:\n",
    "        return []"
   ]
  },
  {
   "cell_type": "code",
   "execution_count": 47,
   "metadata": {},
   "outputs": [
    {
     "data": {
      "text/plain": [
       "0.426474504814511"
      ]
     },
     "execution_count": 47,
     "metadata": {},
     "output_type": "execute_result"
    }
   ],
   "source": [
    "np.random.rand()"
   ]
  },
  {
   "cell_type": "code",
   "execution_count": 11,
   "metadata": {},
   "outputs": [
    {
     "ename": "SyntaxError",
     "evalue": "invalid syntax (<ipython-input-11-7220d527095f>, line 6)",
     "output_type": "error",
     "traceback": [
      "\u001b[0;36m  File \u001b[0;32m\"<ipython-input-11-7220d527095f>\"\u001b[0;36m, line \u001b[0;32m6\u001b[0m\n\u001b[0;31m    thread.start_new_thread ( function, args[, kwargs] )\u001b[0m\n\u001b[0m                                             ^\u001b[0m\n\u001b[0;31mSyntaxError\u001b[0m\u001b[0;31m:\u001b[0m invalid syntax\n"
     ]
    }
   ],
   "source": [
    "\n",
    "\n",
    "\n",
    "\n",
    "\n"
   ]
  },
  {
   "cell_type": "code",
   "execution_count": 1,
   "metadata": {},
   "outputs": [],
   "source": [
    "x = 4\n",
    "y = x\n"
   ]
  },
  {
   "cell_type": "code",
   "execution_count": 3,
   "metadata": {},
   "outputs": [
    {
     "data": {
      "text/plain": [
       "4"
      ]
     },
     "execution_count": 3,
     "metadata": {},
     "output_type": "execute_result"
    }
   ],
   "source": [
    "x = 1\n",
    "y"
   ]
  },
  {
   "cell_type": "code",
   "execution_count": null,
   "metadata": {},
   "outputs": [],
   "source": [
    "queue1\n",
    "queue2\n",
    "\n",
    "while( time < day):\n",
    "    if queue2 is not empty:\n",
    "        do_shit(queue1.pop(), queue2.pop())"
   ]
  },
  {
   "cell_type": "code",
   "execution_count": null,
   "metadata": {},
   "outputs": [],
   "source": [
    "do_shit(params):\n",
    "    write_time_of_call_to_datatable()\n",
    "    write_how_long_person_was_waiting()\n",
    "    \n",
    "    \n",
    "    #Update database?"
   ]
  }
 ],
 "metadata": {
  "kernelspec": {
   "display_name": "Python 3",
   "language": "python",
   "name": "python3"
  },
  "language_info": {
   "codemirror_mode": {
    "name": "ipython",
    "version": 3
   },
   "file_extension": ".py",
   "mimetype": "text/x-python",
   "name": "python",
   "nbconvert_exporter": "python",
   "pygments_lexer": "ipython3",
   "version": "3.6.7"
  }
 },
 "nbformat": 4,
 "nbformat_minor": 2
}
