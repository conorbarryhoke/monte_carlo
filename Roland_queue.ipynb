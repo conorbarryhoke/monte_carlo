{
 "cells": [
  {
   "cell_type": "code",
   "execution_count": 69,
   "metadata": {},
   "outputs": [],
   "source": [
    "import threading\n",
    "from collections import deque\n",
    "import time\n",
    "import numpy as np\n",
    "\n",
    "class Customer(object):\n",
    "    name = \"\"\n",
    "    tick_entered_queue = None\n",
    "    ticks_waiting = -1\n",
    "    tick_answered = None\n",
    "    \n",
    "    def __init__(self, name, tick_entered_queue=tick_entered_queue, ticks_waiting = 0):\n",
    "        self.name = name\n",
    "        self.tick_entered_queue = tick_entered_queue\n",
    "        self.ticks_waiting = ticks_waiting\n",
    "        \n",
    "    def time_in_queue(self, current_tick = None):\n",
    "        if current_tick == None:\n",
    "            current_tick = self.tick_answered\n",
    "        if self.tick_entered_queue == -1:\n",
    "            raise ValueError('Customer has not entered queue yet.')\n",
    "            return -999\n",
    "        else:\n",
    "            return current_tick - self.tick_entered_queue\n",
    "        \n",
    "    def set_answer_tick(self, tick_answered):\n",
    "        self.tick_answered = tick_answered\n",
    "            \n",
    "    \n",
    "class Representative(object):\n",
    "    name = \"\"\n",
    "    \n",
    "    def __init__(self, name):\n",
    "        self.name = name\n",
    "    "
   ]
  },
  {
   "cell_type": "code",
   "execution_count": null,
   "metadata": {},
   "outputs": [
    {
     "name": "stdout",
     "output_type": "stream",
     "text": [
      "The Customer_0.2485188127772917 is being served by: tammy\n",
      "The call time for Customer_0.2485188127772917 was: 4\n",
      "The time in queue was: -1 ticksThe Customer_0.7283491621071954 is being served by: betty\n",
      "The call time for Customer_0.7283491621071954 was: 4\n",
      "The time in queue was: -3 ticks\n",
      "The Customer_0.731627155282761 is being served by: bobby\n",
      "The call time for Customer_0.731627155282761 was: 4\n",
      "The time in queue was: 0 ticks\n",
      "\n",
      "The Customer_0.6654060522735906 is being served by: johnny\n",
      "The call time for Customer_0.6654060522735906 was: 4\n",
      "The time in queue was: -2 ticks\n",
      "The Customer_0.7952504150461761 is being served by: tammy\n",
      "The call time for Customer_0.7952504150461761 was: 4\n",
      "The time in queue was: 5 ticks\n",
      "The Customer_0.7122514218827003 is being served by: bobby\n",
      "The call time for Customer_0.7122514218827003 was: 4\n",
      "The time in queue was: 6 ticksThe Customer_0.7607944885374007 is being served by: johnny\n",
      "The call time for Customer_0.7607944885374007 was: 4\n",
      "The time in queue was: 4 ticks\n",
      "The Customer_0.3363095119415921 is being served by: betty\n",
      "The call time for Customer_0.3363095119415921 was: 4\n",
      "The time in queue was: 7 ticks\n",
      "\n",
      "The Customer_0.251441997775644 is being served by: betty\n",
      "The call time for Customer_0.251441997775644 was: 4\n",
      "The time in queue was: 6 ticks\n",
      "The Customer_0.7779286069561755 is being served by: johnny\n",
      "The call time for Customer_0.7779286069561755 was: 4\n",
      "The time in queue was: 9 ticks\n",
      "The Customer_0.14589839062049936 is being served by: bobby\n",
      "The call time for Customer_0.14589839062049936 was: 4\n",
      "The time in queue was: 5 ticks\n",
      "The Customer_0.344764958921714 is being served by: tammy\n",
      "The call time for Customer_0.344764958921714 was: 4\n",
      "The time in queue was: 10 ticks\n",
      "The Customer_0.5432265121196462 is being served by: bobby\n",
      "The call time for Customer_0.5432265121196462 was: 4\n",
      "The time in queue was: 11 ticks\n",
      "The Customer_0.41241678023882045 is being served by: tammy\n",
      "The call time for Customer_0.41241678023882045 was: 4\n",
      "The time in queue was: 10 ticks\n",
      "The Customer_0.4084285909967452 is being served by: betty\n",
      "The call time for Customer_0.4084285909967452 was: 4\n",
      "The time in queue was: 13 ticks\n",
      "The Customer_0.2925404854430461 is being served by: johnny\n",
      "The call time for Customer_0.2925404854430461 was: 4\n",
      "The time in queue was: 12 ticks\n",
      "The Customer_0.5485018563400059 is being served by: betty\n",
      "The call time for Customer_0.5485018563400059 was: 4\n",
      "The time in queue was: 25 ticks\n",
      "The Customer_0.5146095309455524 is being served by: bobby\n",
      "The call time for Customer_0.5146095309455524 was: 4\n",
      "The time in queue was: 27 ticksThe Customer_0.6760763576005098 is being served by: tammy\n",
      "The call time for Customer_0.6760763576005098 was: 4\n",
      "The time in queue was: 26 ticks\n",
      "The Customer_0.7761287856162512 is being served by: johnny\n",
      "The call time for Customer_0.7761287856162512 was: 4\n",
      "The time in queue was: 23 ticks\n",
      "\n",
      "The Customer_0.4888215654730309 is being served by: tammy\n",
      "The call time for Customer_0.4888215654730309 was: 4\n",
      "The time in queue was: 36 ticks\n",
      "The Customer_0.3084769047295117 is being served by: betty\n",
      "The call time for Customer_0.3084769047295117 was: 4\n",
      "The time in queue was: 38 ticks\n",
      "The Customer_0.7607986480604749 is being served by: bobby\n",
      "The call time for Customer_0.7607986480604749 was: 4\n",
      "The time in queue was: 34 ticks\n",
      "The Customer_0.3216389270159975 is being served by: johnny\n",
      "The call time for Customer_0.3216389270159975 was: 4\n",
      "The time in queue was: 37 ticks\n"
     ]
    }
   ],
   "source": [
    "customer_queue = deque()\n",
    "rep_queue = deque()\n",
    "representatives = [Representative('bobby'), Representative('tammy'), Representative('johnny'),\n",
    "                   Representative('betty')]\n",
    "#customers = ['Customer1', 'Customer2']\n",
    "rep_queue.extendleft(representatives)\n",
    "\n",
    "current_tick = 0\n",
    "# using a list to make our tick count mutable.\n",
    "mutable_tick = [current_tick]\n",
    "\n",
    "while (current_tick < 100): \n",
    "    check_for_customers(customer_queue\n",
    "                        , current_tick\n",
    "                        , random_rate = .8\n",
    "                       )\n",
    "    # If we have no customers do next iteration\n",
    "    if len(customer_queue) == 0: \n",
    "        current_tick+=1\n",
    "        mutable_tick[0] = current_tick\n",
    "        continue\n",
    "     # If we have no available reps do next iteration\n",
    "    elif len(rep_queue)  == 0:\n",
    "        current_tick+=1\n",
    "        mutable_tick[0] = current_tick\n",
    "        continue\n",
    "    \n",
    "    threading.Thread(target=pair_people,\n",
    "        args=(customer_queue, rep_queue, mutable_tick),\n",
    "    ).start()\n",
    "    #pair_people(customer_queue, rep_queue, mutable_tick)\n",
    "    current_tick+=1\n",
    "    time.sleep(1)\n",
    "       "
   ]
  },
  {
   "cell_type": "code",
   "execution_count": 47,
   "metadata": {},
   "outputs": [],
   "source": [
    "# This is the driving function. This pairs customers with reps\n",
    "def pair_people(customer_queue, rep_queue, current_tick):\n",
    "    \n",
    "    curr_cust = customer_queue.pop()\n",
    "    curr_rep = rep_queue.pop()\n",
    "    current_tick_value = current_tick[0]\n",
    "    curr_cust.set_answer_tick(current_tick_value)\n",
    "    \n",
    "    while (current_tick[0] - current_tick_value) < curr_cust.ticks_waiting:\n",
    "        continue\n",
    "        \n",
    "    do_shit(curr_cust, curr_rep, current_tick_value)\n",
    "    \n",
    "    # put our rep back into the queue\n",
    "    rep_queue.appendleft(curr_rep)\n",
    "    \n",
    "# place holder function for logging events\n",
    "def do_shit(curr_cust, curr_rep, current_tick_value):\n",
    "    print(\"The \" + curr_cust.name + \" is being served by: \" + curr_rep.name + \"\\n\" +\n",
    "        \"The call time for \" + curr_cust.name + \" was: \" + str(curr_cust.ticks_waiting) + \"\\n\" +\n",
    "        \"The time in queue was: \" + str(curr_cust.time_in_queue()) + \" ticks\"\n",
    "         )\n",
    "    \n",
    "\n",
    "# method for updating how customers enter the queue\n",
    "def check_for_customers(customer_queue, current_tick, use_ticks = False, random_rate = .5):\n",
    "    if use_ticks:\n",
    "        customer_queue.extendleft(get_customers_at_tick(current_tick))\n",
    "    else:\n",
    "        rate = np.random.rand()\n",
    "        if rate <= random_rate:\n",
    "            customer_queue.appendleft(Customer(\"Customer_\" + str(rate), \n",
    "                                               #ticks_waiting=np.random.randint(0,10),\n",
    "                                                ticks_waiting=4,\n",
    "                                              tick_entered_queue = current_tick))\n",
    "        \n",
    "def get_customers_at_tick(tick):\n",
    "    if tick == 5:\n",
    "        return [Customer('Customer_from_tick')]\n",
    "    else:\n",
    "        return []"
   ]
  },
  {
   "cell_type": "code",
   "execution_count": 11,
   "metadata": {},
   "outputs": [
    {
     "data": {
      "text/plain": [
       "0.2246019018752189"
      ]
     },
     "execution_count": 11,
     "metadata": {},
     "output_type": "execute_result"
    }
   ],
   "source": [
    "np.random.rand()"
   ]
  },
  {
   "cell_type": "code",
   "execution_count": 11,
   "metadata": {},
   "outputs": [
    {
     "ename": "SyntaxError",
     "evalue": "invalid syntax (<ipython-input-11-7220d527095f>, line 6)",
     "output_type": "error",
     "traceback": [
      "\u001b[0;36m  File \u001b[0;32m\"<ipython-input-11-7220d527095f>\"\u001b[0;36m, line \u001b[0;32m6\u001b[0m\n\u001b[0;31m    thread.start_new_thread ( function, args[, kwargs] )\u001b[0m\n\u001b[0m                                             ^\u001b[0m\n\u001b[0;31mSyntaxError\u001b[0m\u001b[0;31m:\u001b[0m invalid syntax\n"
     ]
    }
   ],
   "source": [
    "\n",
    "\n",
    "\n",
    "\n",
    "\n"
   ]
  },
  {
   "cell_type": "code",
   "execution_count": 1,
   "metadata": {},
   "outputs": [],
   "source": [
    "x = 4\n",
    "y = x\n"
   ]
  },
  {
   "cell_type": "code",
   "execution_count": 3,
   "metadata": {},
   "outputs": [
    {
     "data": {
      "text/plain": [
       "4"
      ]
     },
     "execution_count": 3,
     "metadata": {},
     "output_type": "execute_result"
    }
   ],
   "source": [
    "x = 1\n",
    "y"
   ]
  },
  {
   "cell_type": "code",
   "execution_count": null,
   "metadata": {},
   "outputs": [],
   "source": [
    "queue1\n",
    "queue2\n",
    "\n",
    "while( time < day):\n",
    "    if queue2 is not empty:\n",
    "        do_shit(queue1.pop(), queue2.pop())"
   ]
  },
  {
   "cell_type": "code",
   "execution_count": null,
   "metadata": {},
   "outputs": [],
   "source": [
    "do_shit(params):\n",
    "    write_time_of_call_to_datatable()\n",
    "    write_how_long_person_was_waiting()\n",
    "    \n",
    "    \n",
    "    #Update database?"
   ]
  }
 ],
 "metadata": {
  "kernelspec": {
   "display_name": "Python 3",
   "language": "python",
   "name": "python3"
  },
  "language_info": {
   "codemirror_mode": {
    "name": "ipython",
    "version": 3
   },
   "file_extension": ".py",
   "mimetype": "text/x-python",
   "name": "python",
   "nbconvert_exporter": "python",
   "pygments_lexer": "ipython3",
   "version": "3.6.7"
  }
 },
 "nbformat": 4,
 "nbformat_minor": 2
}
