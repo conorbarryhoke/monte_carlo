{
 "cells": [
  {
   "cell_type": "code",
   "execution_count": 1,
   "metadata": {},
   "outputs": [],
   "source": [
    "import numpy as np\n",
    "import pandas as pd\n",
    "import scipy as sp\n",
    "\n",
    "import matplotlib.pyplot as plt\n",
    "\n",
    "\n",
    "\n",
    "import random"
   ]
  },
  {
   "cell_type": "markdown",
   "metadata": {},
   "source": [
    "# Queuing-as df first\n",
    "To Do:  \n",
    "* run better variables for timing customer incident rates\n",
    "* more interesting call times\n",
    "* factor in timed breaks time for reps\n",
    "* factor in random breaks for reps\n",
    "* bring in new reps for a timeframe\n",
    "* let reps leave for the days\n",
    "\n",
    "Later: \n",
    "* Abstract this to language types\n",
    "  \n",
    "Later: transaction logs as classes with add node function?"
   ]
  },
  {
   "cell_type": "code",
   "execution_count": 2,
   "metadata": {},
   "outputs": [
    {
     "data": {
      "text/plain": [
       "[56]"
      ]
     },
     "execution_count": 2,
     "metadata": {},
     "output_type": "execute_result"
    }
   ],
   "source": [
    "[int(sp.random.lognormal(mean=5, sigma=1))]"
   ]
  },
  {
   "cell_type": "code",
   "execution_count": null,
   "metadata": {},
   "outputs": [],
   "source": [
    "call_time_dist"
   ]
  },
  {
   "cell_type": "code",
   "execution_count": 14,
   "metadata": {},
   "outputs": [],
   "source": [
    "num_customerz = 10*24\n",
    "time_periodz = 24*60\n",
    "num_repz = 50"
   ]
  },
  {
   "cell_type": "code",
   "execution_count": 15,
   "metadata": {},
   "outputs": [
    {
     "data": {
      "text/plain": [
       "range(0, 20)"
      ]
     },
     "execution_count": 15,
     "metadata": {},
     "output_type": "execute_result"
    }
   ],
   "source": [
    "range(20)"
   ]
  },
  {
   "cell_type": "code",
   "execution_count": 16,
   "metadata": {},
   "outputs": [],
   "source": [
    "def generate_customer_table(num_customers, time_periods, seed=None):\n",
    "    if seed is not None:\n",
    "        np.random.seed(seed)\n",
    "\n",
    "    df_customers = pd.DataFrame([i for i in range(1,num_customers+1)], columns=['customer_id'])\n",
    "    df_customers['required_call_time'] = [np.random.choice([1,2,3,4,5]) for i in range(num_customers)]\n",
    "    df_customers['time_in']=[np.random.choice(range(1,time_periods)) for i in range(num_customers)]\n",
    "    df_customers['time_out']=[0 for i in range(num_customers)]\n",
    "    df_customers['time_assigned'] = [0 for i in range(num_customers)]\n",
    "    df_customers['assigned_rep'] = ['none' for i in range(num_customers)]\n",
    "\n",
    "    df_customers=df_customers.sort_values(by='time_in')\n",
    "    df_customers['customer_id'] = [i for i in range(1,num_customers+1)]\n",
    "    \n",
    "    return df_customers\n",
    "# df_customers\n",
    "\n",
    "def generate_qs(time_periods):\n",
    "\n",
    "    df_q = pd.DataFrame([0 for x in range(time_periods*2)], columns=['customer_q_list'])\n",
    "    df_q['customer_q_list'] = [[] for x in range(time_periods*2)]\n",
    "    df_q['update_event'] = [0 for x in range(time_periods*2)]\n",
    "\n",
    "    return df_q\n",
    "\n",
    "def generate_reps(num_reps, time_periods):\n",
    "    reps_list = ['rep' + str(i) + '_busy' for i in range(1,num_reps+1)]\n",
    "    df_reps = pd.DataFrame(columns=reps_list)\n",
    "    for rep in reps_list:\n",
    "        df_reps[rep] = list(range(time_periods*2))\n",
    "#     df_reps['rep1_busy']=[0 for x in range(time_periods*2)]\n",
    "#     df_reps['rep2_busy']=[0 for x in range(time_periods*2)]\n",
    "#     df_reps['rep3_busy']=[0 for x in range(time_periods*2)]\n",
    "    #df_assigned = pd.DataFrame(columns=['rep1_busy_with', 'rep2_busy_with'], index=df_reps.index)\n",
    "    \n",
    "    #Next: Scheduled and random breaks\n",
    "    \n",
    "    return df_reps"
   ]
  },
  {
   "cell_type": "code",
   "execution_count": 17,
   "metadata": {},
   "outputs": [],
   "source": [
    "def run_day(df_customers, df_q, df_reps, iteration, time_periods):\n",
    "    for t in range(time_periods*2):\n",
    "\n",
    "        df_q.at[t, 'customer_q_list'] = list(df_customers[(df_customers.time_assigned==0)&(df_customers.time_in<=t)].customer_id)\n",
    "\n",
    "\n",
    "        if len(df_q['customer_q_list'][t])!=0:\n",
    "\n",
    "            for customer_qued in df_q['customer_q_list'][t]:\n",
    "\n",
    "                for rep in df_reps.columns:\n",
    "                    if df_reps[rep][t]==0:\n",
    "                        _req_call_time = int(df_customers[df_customers.customer_id==customer_qued]['required_call_time'])\n",
    "                        df_customers.at[df_customers.customer_id==customer_qued, ['time_assigned', 'time_out',  'assigned_rep']] = [t, t+_req_call_time , rep]\n",
    "\n",
    "                        df_reps.loc[t: t + _req_call_time, rep] = 1\n",
    "                        #df_assigned.loc[t: t + _req_call_time , rep+'_with'] = customer_qued\n",
    "                        break\n",
    "        df_customers['wait_time'] = df_customers.time_assigned - df_customers.time_in\n",
    "        df_customers['iteration'] = iteration\n",
    "        \n",
    "        df_txn_log = pd.concat([df_q, df_reps],axis=1)\n",
    "        df_txn_log['num_in_q'] = df_txn_log.customer_q_list.apply(lambda x: len(x))\n",
    "        df_txn_log['iteration'] = iteration\n",
    "        df_txn_log = df_txn_log.iloc[:df_customers.time_out.max()+1, :]\n",
    "    return df_customers, df_txn_log"
   ]
  },
  {
   "cell_type": "code",
   "execution_count": 19,
   "metadata": {},
   "outputs": [
    {
     "name": "stdout",
     "output_type": "stream",
     "text": [
      "Wall time: 5min 30s\n"
     ]
    }
   ],
   "source": [
    "%%time\n",
    "df_customers, df_txn_log = run_day(generate_customer_table(num_customers=num_customerz, time_periods=time_periodz, seed=42), \n",
    "                                   generate_qs(time_periodz), \n",
    "                                   generate_reps(num_repz, time_periodz), \n",
    "                                   iteration=1, \n",
    "                                  time_periods=time_periodz)\n",
    "\n",
    "\"\"\"\n",
    "Timed: 5 min 30 s\n",
    "num_customerz = 10*24\n",
    "time_periodz = 24*60\n",
    "num_repz = 50\n",
    "\"\"\""
   ]
  },
  {
   "cell_type": "code",
   "execution_count": 10,
   "metadata": {},
   "outputs": [
    {
     "ename": "NameError",
     "evalue": "name 'time_periods' is not defined",
     "output_type": "error",
     "traceback": [
      "\u001b[1;31m---------------------------------------------------------------------------\u001b[0m",
      "\u001b[1;31mNameError\u001b[0m                                 Traceback (most recent call last)",
      "\u001b[1;32m<ipython-input-10-3daccf690de3>\u001b[0m in \u001b[0;36m<module>\u001b[1;34m()\u001b[0m\n\u001b[1;32m----> 1\u001b[1;33m df_customers, df_txn_log = run_day(generate_customer_table(num_customers=num_customerz, seed=42), \n\u001b[0m\u001b[0;32m      2\u001b[0m                                    \u001b[0mgenerate_qs\u001b[0m\u001b[1;33m(\u001b[0m\u001b[0mtime_periodz\u001b[0m\u001b[1;33m)\u001b[0m\u001b[1;33m,\u001b[0m\u001b[1;33m\u001b[0m\u001b[0m\n\u001b[0;32m      3\u001b[0m                                    \u001b[0mgenerate_reps\u001b[0m\u001b[1;33m(\u001b[0m\u001b[0mnum_repz\u001b[0m\u001b[1;33m,\u001b[0m \u001b[0mtime_periodz\u001b[0m\u001b[1;33m)\u001b[0m\u001b[1;33m,\u001b[0m\u001b[1;33m\u001b[0m\u001b[0m\n\u001b[0;32m      4\u001b[0m                                    \u001b[0miteration\u001b[0m\u001b[1;33m=\u001b[0m\u001b[1;36m1\u001b[0m\u001b[1;33m,\u001b[0m\u001b[1;33m\u001b[0m\u001b[0m\n\u001b[0;32m      5\u001b[0m                                   time_periods=time_periodz)\n",
      "\u001b[1;32m<ipython-input-8-3ae0c6a579c0>\u001b[0m in \u001b[0;36mgenerate_customer_table\u001b[1;34m(num_customers, seed)\u001b[0m\n\u001b[0;32m      5\u001b[0m     \u001b[0mdf_customers\u001b[0m \u001b[1;33m=\u001b[0m \u001b[0mpd\u001b[0m\u001b[1;33m.\u001b[0m\u001b[0mDataFrame\u001b[0m\u001b[1;33m(\u001b[0m\u001b[1;33m[\u001b[0m\u001b[0mi\u001b[0m \u001b[1;32mfor\u001b[0m \u001b[0mi\u001b[0m \u001b[1;32min\u001b[0m \u001b[0mrange\u001b[0m\u001b[1;33m(\u001b[0m\u001b[1;36m1\u001b[0m\u001b[1;33m,\u001b[0m\u001b[0mnum_customers\u001b[0m\u001b[1;33m+\u001b[0m\u001b[1;36m1\u001b[0m\u001b[1;33m)\u001b[0m\u001b[1;33m]\u001b[0m\u001b[1;33m,\u001b[0m \u001b[0mcolumns\u001b[0m\u001b[1;33m=\u001b[0m\u001b[1;33m[\u001b[0m\u001b[1;34m'customer_id'\u001b[0m\u001b[1;33m]\u001b[0m\u001b[1;33m)\u001b[0m\u001b[1;33m\u001b[0m\u001b[0m\n\u001b[0;32m      6\u001b[0m     \u001b[0mdf_customers\u001b[0m\u001b[1;33m[\u001b[0m\u001b[1;34m'required_call_time'\u001b[0m\u001b[1;33m]\u001b[0m \u001b[1;33m=\u001b[0m \u001b[1;33m[\u001b[0m\u001b[0mnp\u001b[0m\u001b[1;33m.\u001b[0m\u001b[0mrandom\u001b[0m\u001b[1;33m.\u001b[0m\u001b[0mchoice\u001b[0m\u001b[1;33m(\u001b[0m\u001b[1;33m[\u001b[0m\u001b[1;36m1\u001b[0m\u001b[1;33m,\u001b[0m\u001b[1;36m2\u001b[0m\u001b[1;33m,\u001b[0m\u001b[1;36m3\u001b[0m\u001b[1;33m,\u001b[0m\u001b[1;36m4\u001b[0m\u001b[1;33m,\u001b[0m\u001b[1;36m5\u001b[0m\u001b[1;33m]\u001b[0m\u001b[1;33m)\u001b[0m \u001b[1;32mfor\u001b[0m \u001b[0mi\u001b[0m \u001b[1;32min\u001b[0m \u001b[0mrange\u001b[0m\u001b[1;33m(\u001b[0m\u001b[0mnum_customers\u001b[0m\u001b[1;33m)\u001b[0m\u001b[1;33m]\u001b[0m\u001b[1;33m\u001b[0m\u001b[0m\n\u001b[1;32m----> 7\u001b[1;33m     \u001b[0mdf_customers\u001b[0m\u001b[1;33m[\u001b[0m\u001b[1;34m'time_in'\u001b[0m\u001b[1;33m]\u001b[0m\u001b[1;33m=\u001b[0m\u001b[1;33m[\u001b[0m\u001b[0mnp\u001b[0m\u001b[1;33m.\u001b[0m\u001b[0mrandom\u001b[0m\u001b[1;33m.\u001b[0m\u001b[0mchoice\u001b[0m\u001b[1;33m(\u001b[0m\u001b[0mrange\u001b[0m\u001b[1;33m(\u001b[0m\u001b[1;36m1\u001b[0m\u001b[1;33m,\u001b[0m\u001b[0mtime_periods\u001b[0m\u001b[1;33m)\u001b[0m\u001b[1;33m)\u001b[0m \u001b[1;32mfor\u001b[0m \u001b[0mi\u001b[0m \u001b[1;32min\u001b[0m \u001b[0mrange\u001b[0m\u001b[1;33m(\u001b[0m\u001b[0mnum_customers\u001b[0m\u001b[1;33m)\u001b[0m\u001b[1;33m]\u001b[0m\u001b[1;33m\u001b[0m\u001b[0m\n\u001b[0m\u001b[0;32m      8\u001b[0m     \u001b[0mdf_customers\u001b[0m\u001b[1;33m[\u001b[0m\u001b[1;34m'time_out'\u001b[0m\u001b[1;33m]\u001b[0m\u001b[1;33m=\u001b[0m\u001b[1;33m[\u001b[0m\u001b[1;36m0\u001b[0m \u001b[1;32mfor\u001b[0m \u001b[0mi\u001b[0m \u001b[1;32min\u001b[0m \u001b[0mrange\u001b[0m\u001b[1;33m(\u001b[0m\u001b[0mnum_customers\u001b[0m\u001b[1;33m)\u001b[0m\u001b[1;33m]\u001b[0m\u001b[1;33m\u001b[0m\u001b[0m\n\u001b[0;32m      9\u001b[0m     \u001b[0mdf_customers\u001b[0m\u001b[1;33m[\u001b[0m\u001b[1;34m'time_assigned'\u001b[0m\u001b[1;33m]\u001b[0m \u001b[1;33m=\u001b[0m \u001b[1;33m[\u001b[0m\u001b[1;36m0\u001b[0m \u001b[1;32mfor\u001b[0m \u001b[0mi\u001b[0m \u001b[1;32min\u001b[0m \u001b[0mrange\u001b[0m\u001b[1;33m(\u001b[0m\u001b[0mnum_customers\u001b[0m\u001b[1;33m)\u001b[0m\u001b[1;33m]\u001b[0m\u001b[1;33m\u001b[0m\u001b[0m\n",
      "\u001b[1;32m<ipython-input-8-3ae0c6a579c0>\u001b[0m in \u001b[0;36m<listcomp>\u001b[1;34m(.0)\u001b[0m\n\u001b[0;32m      5\u001b[0m     \u001b[0mdf_customers\u001b[0m \u001b[1;33m=\u001b[0m \u001b[0mpd\u001b[0m\u001b[1;33m.\u001b[0m\u001b[0mDataFrame\u001b[0m\u001b[1;33m(\u001b[0m\u001b[1;33m[\u001b[0m\u001b[0mi\u001b[0m \u001b[1;32mfor\u001b[0m \u001b[0mi\u001b[0m \u001b[1;32min\u001b[0m \u001b[0mrange\u001b[0m\u001b[1;33m(\u001b[0m\u001b[1;36m1\u001b[0m\u001b[1;33m,\u001b[0m\u001b[0mnum_customers\u001b[0m\u001b[1;33m+\u001b[0m\u001b[1;36m1\u001b[0m\u001b[1;33m)\u001b[0m\u001b[1;33m]\u001b[0m\u001b[1;33m,\u001b[0m \u001b[0mcolumns\u001b[0m\u001b[1;33m=\u001b[0m\u001b[1;33m[\u001b[0m\u001b[1;34m'customer_id'\u001b[0m\u001b[1;33m]\u001b[0m\u001b[1;33m)\u001b[0m\u001b[1;33m\u001b[0m\u001b[0m\n\u001b[0;32m      6\u001b[0m     \u001b[0mdf_customers\u001b[0m\u001b[1;33m[\u001b[0m\u001b[1;34m'required_call_time'\u001b[0m\u001b[1;33m]\u001b[0m \u001b[1;33m=\u001b[0m \u001b[1;33m[\u001b[0m\u001b[0mnp\u001b[0m\u001b[1;33m.\u001b[0m\u001b[0mrandom\u001b[0m\u001b[1;33m.\u001b[0m\u001b[0mchoice\u001b[0m\u001b[1;33m(\u001b[0m\u001b[1;33m[\u001b[0m\u001b[1;36m1\u001b[0m\u001b[1;33m,\u001b[0m\u001b[1;36m2\u001b[0m\u001b[1;33m,\u001b[0m\u001b[1;36m3\u001b[0m\u001b[1;33m,\u001b[0m\u001b[1;36m4\u001b[0m\u001b[1;33m,\u001b[0m\u001b[1;36m5\u001b[0m\u001b[1;33m]\u001b[0m\u001b[1;33m)\u001b[0m \u001b[1;32mfor\u001b[0m \u001b[0mi\u001b[0m \u001b[1;32min\u001b[0m \u001b[0mrange\u001b[0m\u001b[1;33m(\u001b[0m\u001b[0mnum_customers\u001b[0m\u001b[1;33m)\u001b[0m\u001b[1;33m]\u001b[0m\u001b[1;33m\u001b[0m\u001b[0m\n\u001b[1;32m----> 7\u001b[1;33m     \u001b[0mdf_customers\u001b[0m\u001b[1;33m[\u001b[0m\u001b[1;34m'time_in'\u001b[0m\u001b[1;33m]\u001b[0m\u001b[1;33m=\u001b[0m\u001b[1;33m[\u001b[0m\u001b[0mnp\u001b[0m\u001b[1;33m.\u001b[0m\u001b[0mrandom\u001b[0m\u001b[1;33m.\u001b[0m\u001b[0mchoice\u001b[0m\u001b[1;33m(\u001b[0m\u001b[0mrange\u001b[0m\u001b[1;33m(\u001b[0m\u001b[1;36m1\u001b[0m\u001b[1;33m,\u001b[0m\u001b[0mtime_periods\u001b[0m\u001b[1;33m)\u001b[0m\u001b[1;33m)\u001b[0m \u001b[1;32mfor\u001b[0m \u001b[0mi\u001b[0m \u001b[1;32min\u001b[0m \u001b[0mrange\u001b[0m\u001b[1;33m(\u001b[0m\u001b[0mnum_customers\u001b[0m\u001b[1;33m)\u001b[0m\u001b[1;33m]\u001b[0m\u001b[1;33m\u001b[0m\u001b[0m\n\u001b[0m\u001b[0;32m      8\u001b[0m     \u001b[0mdf_customers\u001b[0m\u001b[1;33m[\u001b[0m\u001b[1;34m'time_out'\u001b[0m\u001b[1;33m]\u001b[0m\u001b[1;33m=\u001b[0m\u001b[1;33m[\u001b[0m\u001b[1;36m0\u001b[0m \u001b[1;32mfor\u001b[0m \u001b[0mi\u001b[0m \u001b[1;32min\u001b[0m \u001b[0mrange\u001b[0m\u001b[1;33m(\u001b[0m\u001b[0mnum_customers\u001b[0m\u001b[1;33m)\u001b[0m\u001b[1;33m]\u001b[0m\u001b[1;33m\u001b[0m\u001b[0m\n\u001b[0;32m      9\u001b[0m     \u001b[0mdf_customers\u001b[0m\u001b[1;33m[\u001b[0m\u001b[1;34m'time_assigned'\u001b[0m\u001b[1;33m]\u001b[0m \u001b[1;33m=\u001b[0m \u001b[1;33m[\u001b[0m\u001b[1;36m0\u001b[0m \u001b[1;32mfor\u001b[0m \u001b[0mi\u001b[0m \u001b[1;32min\u001b[0m \u001b[0mrange\u001b[0m\u001b[1;33m(\u001b[0m\u001b[0mnum_customers\u001b[0m\u001b[1;33m)\u001b[0m\u001b[1;33m]\u001b[0m\u001b[1;33m\u001b[0m\u001b[0m\n",
      "\u001b[1;31mNameError\u001b[0m: name 'time_periods' is not defined"
     ]
    }
   ],
   "source": [
    "for i in range(2,10):\n",
    "    df_a, df_b = run_day(generate_customer_table(), \n",
    "                                   generate_qs(), \n",
    "                                   generate_reps(), \n",
    "                                   iteration=i)\n",
    "    df_customers = pd.concat([df_customers, df_a])\n",
    "    df_txn_log = pd.concat([df_txn_log, df_b])"
   ]
  },
  {
   "cell_type": "code",
   "execution_count": 32,
   "metadata": {},
   "outputs": [
    {
     "data": {
      "text/plain": [
       "array([ 8.  , 18.  , 41.01])"
      ]
     },
     "execution_count": 32,
     "metadata": {},
     "output_type": "execute_result"
    }
   ],
   "source": [
    "# Wait Times\n",
    "np.quantile(df_customers.wait_time, [.25, .5, .99])"
   ]
  },
  {
   "cell_type": "code",
   "execution_count": 33,
   "metadata": {},
   "outputs": [
    {
     "data": {
      "text/plain": [
       "rep1_busy    0.977866\n",
       "rep2_busy    0.969170\n",
       "rep3_busy    0.938340\n",
       "dtype: float64"
      ]
     },
     "execution_count": 33,
     "metadata": {},
     "output_type": "execute_result"
    }
   ],
   "source": [
    "# Rep utilization rates\n",
    "df_txn_log.loc[:, ['rep1_busy', 'rep2_busy', 'rep3_busy']].mean()\n"
   ]
  },
  {
   "cell_type": "code",
   "execution_count": null,
   "metadata": {},
   "outputs": [],
   "source": []
  }
 ],
 "metadata": {
  "kernelspec": {
   "display_name": "Python 3",
   "language": "python",
   "name": "python3"
  },
  "language_info": {
   "codemirror_mode": {
    "name": "ipython",
    "version": 3
   },
   "file_extension": ".py",
   "mimetype": "text/x-python",
   "name": "python",
   "nbconvert_exporter": "python",
   "pygments_lexer": "ipython3",
   "version": "3.6.5"
  }
 },
 "nbformat": 4,
 "nbformat_minor": 2
}
