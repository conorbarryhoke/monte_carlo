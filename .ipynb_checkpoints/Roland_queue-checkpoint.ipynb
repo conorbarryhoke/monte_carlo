{
 "cells": [
  {
   "cell_type": "code",
   "execution_count": 44,
   "metadata": {},
   "outputs": [],
   "source": [
    "import threading\n",
    "from collections import deque\n",
    "import time\n",
    "import numpy as np\n",
    "\n",
    "class Customer(object):\n",
    "    name = \"\"\n",
    "    tick_entered_queue = None\n",
    "    ticks_waiting = -1\n",
    "    tick_answered = None\n",
    "    \n",
    "    def __init__(self, name, tick_entered_queue=tick_entered_queue, ticks_waiting = 0):\n",
    "        self.name = name\n",
    "        self.tick_entered_queue = tick_entered_queue\n",
    "        self.ticks_waiting = ticks_waiting\n",
    "        \n",
    "    def time_in_queue(self, current_tick = None):\n",
    "        if current_tick == None:\n",
    "            current_tick = self.tick_answered\n",
    "        if self.tick_entered_queue == -1:\n",
    "            raise ValueError('Customer has not entered queue yet.')\n",
    "            return -999\n",
    "        else:\n",
    "            return current_tick - self.tick_entered_queue\n",
    "        \n",
    "    def set_answer_tick(self, tick_answered):\n",
    "        self.tick_answered = tick_answered\n",
    "            \n",
    "    \n",
    "class Representative(object):\n",
    "    name = \"\"\n",
    "    \n",
    "    def __init__(self, name):\n",
    "        self.name = name\n",
    "    "
   ]
  },
  {
   "cell_type": "code",
   "execution_count": 45,
   "metadata": {},
   "outputs": [],
   "source": [
    "customer_queue = deque()\n",
    "rep_queue = deque()\n",
    "representatives = [Representative('bobby'), Representative('tammy'), Representative('johnny'),\n",
    "                   Representative('betty')]\n",
    "#customers = ['Customer1', 'Customer2']\n",
    "rep_queue.extendleft(representatives)"
   ]
  },
  {
   "cell_type": "code",
   "execution_count": 46,
   "metadata": {},
   "outputs": [
    {
     "name": "stderr",
     "output_type": "stream",
     "text": [
      "Exception in thread Thread-149:\n",
      "Traceback (most recent call last):\n",
      "  File \"/usr/lib/python3.6/threading.py\", line 916, in _bootstrap_inner\n",
      "    self.run()\n",
      "  File \"/usr/lib/python3.6/threading.py\", line 864, in run\n",
      "    self._target(*self._args, **self._kwargs)\n",
      "  File \"<ipython-input-41-103dff0595ed>\", line 12, in pair_people\n",
      "    do_shit(curr_cust, curr_rep, current_tick_value)\n",
      "  File \"<ipython-input-41-103dff0595ed>\", line 21, in do_shit\n",
      "    \"The time in queue was: \" + str(curr_cust.time_in_queue()) + \" ticks\"\n",
      "  File \"<ipython-input-44-7a71b14781c2>\", line 24, in time_in_queue\n",
      "    return current_tick - self.tick_entered_queue\n",
      "TypeError: unsupported operand type(s) for -: 'NoneType' and 'int'\n",
      "\n",
      "Exception in thread Thread-152:\n",
      "Traceback (most recent call last):\n",
      "  File \"/usr/lib/python3.6/threading.py\", line 916, in _bootstrap_inner\n",
      "    self.run()\n",
      "  File \"/usr/lib/python3.6/threading.py\", line 864, in run\n",
      "    self._target(*self._args, **self._kwargs)\n",
      "  File \"<ipython-input-41-103dff0595ed>\", line 12, in pair_people\n",
      "    do_shit(curr_cust, curr_rep, current_tick_value)\n",
      "  File \"<ipython-input-41-103dff0595ed>\", line 21, in do_shit\n",
      "    \"The time in queue was: \" + str(curr_cust.time_in_queue()) + \" ticks\"\n",
      "  File \"<ipython-input-44-7a71b14781c2>\", line 24, in time_in_queue\n",
      "    return current_tick - self.tick_entered_queue\n",
      "TypeError: unsupported operand type(s) for -: 'NoneType' and 'int'\n",
      "\n",
      "Exception in thread Thread-151:\n",
      "Traceback (most recent call last):\n",
      "  File \"/usr/lib/python3.6/threading.py\", line 916, in _bootstrap_inner\n",
      "    self.run()\n",
      "  File \"/usr/lib/python3.6/threading.py\", line 864, in run\n",
      "    self._target(*self._args, **self._kwargs)\n",
      "  File \"<ipython-input-41-103dff0595ed>\", line 12, in pair_people\n",
      "    do_shit(curr_cust, curr_rep, current_tick_value)\n",
      "  File \"<ipython-input-41-103dff0595ed>\", line 21, in do_shit\n",
      "    \"The time in queue was: \" + str(curr_cust.time_in_queue()) + \" ticks\"\n",
      "  File \"<ipython-input-44-7a71b14781c2>\", line 24, in time_in_queue\n",
      "    return current_tick - self.tick_entered_queue\n",
      "TypeError: unsupported operand type(s) for -: 'NoneType' and 'int'\n",
      "\n",
      "Exception in thread Thread-150:\n",
      "Traceback (most recent call last):\n",
      "  File \"/usr/lib/python3.6/threading.py\", line 916, in _bootstrap_inner\n",
      "    self.run()\n",
      "  File \"/usr/lib/python3.6/threading.py\", line 864, in run\n",
      "    self._target(*self._args, **self._kwargs)\n",
      "  File \"<ipython-input-41-103dff0595ed>\", line 12, in pair_people\n",
      "    do_shit(curr_cust, curr_rep, current_tick_value)\n",
      "  File \"<ipython-input-41-103dff0595ed>\", line 21, in do_shit\n",
      "    \"The time in queue was: \" + str(curr_cust.time_in_queue()) + \" ticks\"\n",
      "  File \"<ipython-input-44-7a71b14781c2>\", line 24, in time_in_queue\n",
      "    return current_tick - self.tick_entered_queue\n",
      "TypeError: unsupported operand type(s) for -: 'NoneType' and 'int'\n",
      "\n"
     ]
    }
   ],
   "source": [
    "current_tick = 0\n",
    "# using a list to make our tick count mutable.\n",
    "mutable_tick = [current_tick]\n",
    "\n",
    "while (current_tick < 100): \n",
    "    check_for_customers(customer_queue\n",
    "                        , current_tick\n",
    "                        , random_rate = .25\n",
    "                       )\n",
    "    # If we have no customers do next iteration\n",
    "    if len(customer_queue) == 0: \n",
    "        current_tick+=1\n",
    "        mutable_tick[0] = current_tick\n",
    "        continue\n",
    "     # If we have no available reps do next iteration\n",
    "    elif len(rep_queue)  == 0:\n",
    "        current_tick+=1\n",
    "        mutable_tick[0] = current_tick\n",
    "        continue\n",
    "    \n",
    "    threading.Thread(target=pair_people,\n",
    "        args=(customer_queue, rep_queue, mutable_tick),\n",
    "    ).start()\n",
    "    #pair_people(customer_queue, rep_queue, mutable_tick)\n",
    "    current_tick+=1\n",
    "       "
   ]
  },
  {
   "cell_type": "code",
   "execution_count": 41,
   "metadata": {},
   "outputs": [],
   "source": [
    "# This is the driving function. This pairs customers with reps\n",
    "def pair_people(customer_queue, rep_queue, current_tick):\n",
    "    \n",
    "    curr_cust = customer_queue.pop()\n",
    "    curr_rep = rep_queue.pop()\n",
    "    current_tick_value = current_tick[0]\n",
    "    curr_cust.tick_answerd = current_tick_value\n",
    "    \n",
    "    while (current_tick[0] - current_tick_value) < curr_cust.ticks_waiting:\n",
    "        continue\n",
    "        \n",
    "    do_shit(curr_cust, curr_rep, current_tick_value)\n",
    "    \n",
    "    # put our rep back into the queue\n",
    "    rep_queue.appendleft(curr_rep)\n",
    "    \n",
    "# place holder function for logging events\n",
    "def do_shit(curr_cust, curr_rep, current_tick_value):\n",
    "    print(\"The \" + curr_cust.name + \" is being served by: \" + curr_rep.name + \"\\n\" +\n",
    "        \"The call time for \" + curr_cust.name + \" was: \" + str(curr_cust.ticks_waiting) + \"\\n\" +\n",
    "        \"The time in queue was: \" + str(curr_cust.time_in_queue()) + \" ticks\"\n",
    "         )\n",
    "    \n",
    "\n",
    "# method for updating how customers enter the queue\n",
    "def check_for_customers(customer_queue, current_tick, use_ticks = False, random_rate = .5):\n",
    "    if use_ticks:\n",
    "        customer_queue.extendleft(get_customers_at_tick(current_tick))\n",
    "    else:\n",
    "        rate = np.random.rand()\n",
    "        if rate <= random_rate:\n",
    "            customer_queue.appendleft(Customer(\"Customer_\" + str(rate), \n",
    "                                               #ticks_waiting=np.random.randint(0,10),\n",
    "                                                ticks_waiting=4,\n",
    "                                              tick_entered_queue = current_tick))\n",
    "        \n",
    "def get_customers_at_tick(tick):\n",
    "    if tick == 5:\n",
    "        return [Customer('Customer_from_tick')]\n",
    "    else:\n",
    "        return []"
   ]
  },
  {
   "cell_type": "code",
   "execution_count": 11,
   "metadata": {},
   "outputs": [
    {
     "data": {
      "text/plain": [
       "0.2246019018752189"
      ]
     },
     "execution_count": 11,
     "metadata": {},
     "output_type": "execute_result"
    }
   ],
   "source": [
    "np.random.rand()"
   ]
  },
  {
   "cell_type": "code",
   "execution_count": 11,
   "metadata": {},
   "outputs": [
    {
     "ename": "SyntaxError",
     "evalue": "invalid syntax (<ipython-input-11-7220d527095f>, line 6)",
     "output_type": "error",
     "traceback": [
      "\u001b[0;36m  File \u001b[0;32m\"<ipython-input-11-7220d527095f>\"\u001b[0;36m, line \u001b[0;32m6\u001b[0m\n\u001b[0;31m    thread.start_new_thread ( function, args[, kwargs] )\u001b[0m\n\u001b[0m                                             ^\u001b[0m\n\u001b[0;31mSyntaxError\u001b[0m\u001b[0;31m:\u001b[0m invalid syntax\n"
     ]
    }
   ],
   "source": [
    "\n",
    "\n",
    "\n",
    "\n",
    "\n"
   ]
  },
  {
   "cell_type": "code",
   "execution_count": 1,
   "metadata": {},
   "outputs": [],
   "source": [
    "x = 4\n",
    "y = x\n"
   ]
  },
  {
   "cell_type": "code",
   "execution_count": 3,
   "metadata": {},
   "outputs": [
    {
     "data": {
      "text/plain": [
       "4"
      ]
     },
     "execution_count": 3,
     "metadata": {},
     "output_type": "execute_result"
    }
   ],
   "source": [
    "x = 1\n",
    "y"
   ]
  },
  {
   "cell_type": "code",
   "execution_count": null,
   "metadata": {},
   "outputs": [],
   "source": [
    "queue1\n",
    "queue2\n",
    "\n",
    "while( time < day):\n",
    "    if queue2 is not empty:\n",
    "        do_shit(queue1.pop(), queue2.pop())"
   ]
  },
  {
   "cell_type": "code",
   "execution_count": null,
   "metadata": {},
   "outputs": [],
   "source": [
    "do_shit(params):\n",
    "    write_time_of_call_to_datatable()\n",
    "    write_how_long_person_was_waiting()\n",
    "    \n",
    "    \n",
    "    #Update database?"
   ]
  }
 ],
 "metadata": {
  "kernelspec": {
   "display_name": "Python 3",
   "language": "python",
   "name": "python3"
  },
  "language_info": {
   "codemirror_mode": {
    "name": "ipython",
    "version": 3
   },
   "file_extension": ".py",
   "mimetype": "text/x-python",
   "name": "python",
   "nbconvert_exporter": "python",
   "pygments_lexer": "ipython3",
   "version": "3.6.7"
  }
 },
 "nbformat": 4,
 "nbformat_minor": 2
}
