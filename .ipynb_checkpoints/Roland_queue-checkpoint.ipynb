{
 "cells": [
  {
   "cell_type": "code",
   "execution_count": 78,
   "metadata": {},
   "outputs": [],
   "source": [
    "import _thread\n",
    "from collections import deque\n",
    "import time\n",
    "import numpy as np\n",
    "\n",
    "class Customer(object):\n",
    "    name = \"\"\n",
    "    tick_entered_queue = -1\n",
    "    ticks_waiting = 0\n",
    "    \n",
    "    def __init__(self, name, tick_entered_queue=tick_entered_queue, ticks_waiting = 0):\n",
    "        self.name = name\n",
    "        self.tick_entered_queue = tick_entered_queue\n",
    "        self.ticks_waiting = ticks_waiting\n",
    "    \n",
    "class Representative(object):\n",
    "    name = \"\"\n",
    "    \n",
    "    def __init__(self, name):\n",
    "        self.name = name\n",
    "    "
   ]
  },
  {
   "cell_type": "code",
   "execution_count": 79,
   "metadata": {},
   "outputs": [],
   "source": [
    "customer_queue = deque()\n",
    "rep_queue = deque()\n",
    "representatives = [Representative('bobby'), Representative('tammy'), Representative('johnny'),\n",
    "                   Representative('betty')]\n",
    "#customers = ['Customer1', 'Customer2']\n",
    "rep_queue.extendleft(representatives)"
   ]
  },
  {
   "cell_type": "code",
   "execution_count": 80,
   "metadata": {},
   "outputs": [
    {
     "name": "stdout",
     "output_type": "stream",
     "text": [
      "The Customer_0.21190934317540544 is being served by: bobby\n",
      "The Customer_0.49771589442380004 is being served by: tammy\n",
      "The Customer_0.26456847199958955 is being served by: johnny\n",
      "The Customer_0.009780004008315357 is being served by: betty\n",
      "The Customer_0.37424603466848105 is being served by: bobby\n",
      "The Customer_0.04736347007136987 is being served by: tammy\n",
      "The Customer_0.38035925138144633 is being served by: johnny\n",
      "The Customer_0.054389512613763236 is being served by: betty\n",
      "The Customer_0.0385534696925206 is being served by: bobby\n",
      "The Customer_0.14542440608028806 is being served by: tammy\n",
      "The Customer_0.05246398943390407 is being served by: johnny\n",
      "The Customer_0.24856012666098626 is being served by: betty\n",
      "The Customer_0.1969707599114051 is being served by: bobby\n",
      "The Customer_0.3265187852489351 is being served by: tammy\n",
      "The Customer_0.45616650387866775 is being served by: johnny\n",
      "The Customer_0.04153745908277895 is being served by: betty\n",
      "The Customer_0.07069928977431572 is being served by: bobby\n",
      "The Customer_0.37801656868231726 is being served by: tammy\n",
      "The Customer_0.058874973689610255 is being served by: johnny\n",
      "The Customer_0.15325719911732372 is being served by: betty\n",
      "The Customer_0.4902510374261433 is being served by: bobby\n",
      "The Customer_0.1561123491565115 is being served by: tammy\n",
      "The Customer_0.37643343052153355 is being served by: johnny\n",
      "The Customer_0.49536181321541173 is being served by: betty\n",
      "The Customer_0.07515919867554632 is being served by: bobby\n",
      "The Customer_0.034574236777844436 is being served by: tammy\n",
      "The Customer_0.12098814222514498 is being served by: johnny\n",
      "The Customer_0.27197314272889317 is being served by: betty\n",
      "The Customer_0.0524630744357657 is being served by: bobby\n",
      "The Customer_0.09948733949739497 is being served by: tammy\n",
      "The Customer_0.16744549855641744 is being served by: johnny\n",
      "The Customer_0.33522886258170714 is being served by: betty\n",
      "The Customer_0.13319106555808657 is being served by: bobby\n",
      "The Customer_0.42486675584857847 is being served by: tammy\n",
      "The Customer_0.04554684902329542 is being served by: johnny\n",
      "The Customer_0.40132947681133546 is being served by: betty\n",
      "The Customer_0.10347827007893562 is being served by: bobby\n",
      "The Customer_0.4975702790689752 is being served by: tammy\n",
      "The Customer_0.35256800352575535 is being served by: johnny\n",
      "The Customer_0.16742028689504418 is being served by: betty\n",
      "The Customer_0.060485522813420456 is being served by: bobby\n",
      "The Customer_0.10127221122487551 is being served by: tammy\n",
      "The Customer_0.08019981198252124 is being served by: johnny\n",
      "The Customer_0.41845146051173654 is being served by: betty\n",
      "The Customer_0.28940943966716737 is being served by: bobby\n",
      "The Customer_0.2565990490032616 is being served by: tammy\n",
      "The Customer_0.35787909147666475 is being served by: johnny\n",
      "The Customer_0.47227584566679803 is being served by: betty\n",
      "The Customer_0.2445506187187495 is being served by: bobby\n",
      "The Customer_0.09198497613800949 is being served by: tammy\n",
      "The Customer_0.11072332845075372 is being served by: johnny\n"
     ]
    }
   ],
   "source": [
    "current_tick = 0\n",
    "\n",
    "while (current_tick < 100):\n",
    "    check_for_customers(customer_queue\n",
    "                        #, current_tick\n",
    "                       )\n",
    "    # If we have no customers do next iteration\n",
    "    if len(customer_queue) == 0: \n",
    "        current_tick+=1\n",
    "        continue\n",
    "    pair_people(customer_queue, rep_queue, current_tick)\n",
    "    current_tick+=1\n",
    "       "
   ]
  },
  {
   "cell_type": "code",
   "execution_count": 75,
   "metadata": {},
   "outputs": [],
   "source": [
    "def pair_people(customer_queue, rep_queue):\n",
    "    curr_cust = customer_queue.pop()\n",
    "    curr_rep = rep_queue.pop()\n",
    "    \n",
    "    while curr_cust.ticks_waiting\n",
    "    \n",
    "    do_shit(curr_cust, curr_rep)\n",
    "    \n",
    "    rep_queue.appendleft(curr_rep)\n",
    "    \n",
    "\n",
    "def do_shit(curr_cust, curr_rep):\n",
    "    print(\"The \" + curr_cust.name + \" is being served by: \" + curr_rep.name)\n",
    "    \n",
    "def check_for_customers(customer_queue, current_tick = -1, random_rate = .5):\n",
    "    if current_tick != -1:\n",
    "        customer_queue.extendleft(get_customers_at_tick(current_tick))\n",
    "    else:\n",
    "        rate = np.random.rand()\n",
    "        if rate <= random_rate:\n",
    "            customer_queue.appendleft(Customer(\"Customer_\" + str(rate)))\n",
    "        \n",
    "def get_customers_at_tick(tick):\n",
    "    if tick == 5:\n",
    "        return [Customer('Customer_from_tick')]\n",
    "    else:\n",
    "        return []"
   ]
  },
  {
   "cell_type": "code",
   "execution_count": 76,
   "metadata": {},
   "outputs": [
    {
     "data": {
      "text/plain": [
       "0.1481305491998971"
      ]
     },
     "execution_count": 76,
     "metadata": {},
     "output_type": "execute_result"
    }
   ],
   "source": [
    "np.random.rand()"
   ]
  },
  {
   "cell_type": "code",
   "execution_count": 41,
   "metadata": {},
   "outputs": [
    {
     "ename": "SyntaxError",
     "evalue": "invalid syntax (<ipython-input-41-7220d527095f>, line 6)",
     "output_type": "error",
     "traceback": [
      "\u001b[0;36m  File \u001b[0;32m\"<ipython-input-41-7220d527095f>\"\u001b[0;36m, line \u001b[0;32m6\u001b[0m\n\u001b[0;31m    thread.start_new_thread ( function, args[, kwargs] )\u001b[0m\n\u001b[0m                                             ^\u001b[0m\n\u001b[0;31mSyntaxError\u001b[0m\u001b[0;31m:\u001b[0m invalid syntax\n"
     ]
    }
   ],
   "source": [
    "\n",
    "\n",
    "\n",
    "\n",
    "\n",
    "thread.start_new_thread ( function, args[, kwargs] )"
   ]
  },
  {
   "cell_type": "code",
   "execution_count": null,
   "metadata": {},
   "outputs": [],
   "source": [
    "queue1\n",
    "queue2\n",
    "\n",
    "while( time < day):\n",
    "    if queue2 is not empty:\n",
    "        do_shit(queue1.pop(), queue2.pop())"
   ]
  },
  {
   "cell_type": "code",
   "execution_count": null,
   "metadata": {},
   "outputs": [],
   "source": [
    "do_shit(params):\n",
    "    write_time_of_call_to_datatable()\n",
    "    write_how_long_person_was_waiting()\n",
    "    \n",
    "    \n",
    "    #Update database?"
   ]
  }
 ],
 "metadata": {
  "kernelspec": {
   "display_name": "Python 3",
   "language": "python",
   "name": "python3"
  },
  "language_info": {
   "codemirror_mode": {
    "name": "ipython",
    "version": 3
   },
   "file_extension": ".py",
   "mimetype": "text/x-python",
   "name": "python",
   "nbconvert_exporter": "python",
   "pygments_lexer": "ipython3",
   "version": "3.6.7"
  }
 },
 "nbformat": 4,
 "nbformat_minor": 2
}
