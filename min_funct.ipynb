{
 "cells": [
  {
   "cell_type": "markdown",
   "metadata": {},
   "source": [
    "# Next\n",
    "* add a send on break function: inserts 'customer' with req. call time 20 at a specified point\n",
    "* Extract out queue size at all times\n",
    "* cut down on frame build process time"
   ]
  },
  {
   "cell_type": "code",
   "execution_count": 3,
   "metadata": {},
   "outputs": [
    {
     "data": {
      "text/html": [
       "<style>.container { width:90% !important; }</style>"
      ],
      "text/plain": [
       "<IPython.core.display.HTML object>"
      ]
     },
     "metadata": {},
     "output_type": "display_data"
    }
   ],
   "source": [
    "# Custom style\n",
    "from IPython.core.display import display, HTML\n",
    "display(HTML(\"<style>.container { width:90% !important; }</style>\"))"
   ]
  },
  {
   "cell_type": "code",
   "execution_count": 161,
   "metadata": {},
   "outputs": [],
   "source": [
    "import pandas as pd\n",
    "import itertools\n",
    "import numpy as np"
   ]
  },
  {
   "cell_type": "code",
   "execution_count": null,
   "metadata": {},
   "outputs": [],
   "source": [
    "# import os\n",
    "os.system(\"git add . && git commit -m 'expanding calc base' && git push\")"
   ]
  },
  {
   "cell_type": "code",
   "execution_count": null,
   "metadata": {},
   "outputs": [],
   "source": [
    "num_customerz = 24*60*30 # 10 per minute\n",
    "time_periodz = 24*60*60\n",
    "num_repz = 50"
   ]
  },
  {
   "cell_type": "code",
   "execution_count": null,
   "metadata": {},
   "outputs": [],
   "source": [
    "%%time\n",
    "# Lists based on the number of customers - each element represents one customer\n",
    "call_in_time_list =  [np.random.choice(range(1,time_periodz)) for i in range(num_customerz)]\n",
    "call_in_time_list.sort() # We'll be iterating through this list, so it should be in order\n",
    "call_duration_list = [np.random.choice([1,2,3,4,5]*60) for i in range(num_customerz)] # 1 to 5 minute call times\n",
    "wait_times_list = [] # This doesn't need to be done the same was as above: handled one at a time in loop\n",
    "\n",
    "# Each element contains information about a different representative\n",
    "# Next available: at all times, this represents the next time each rep will be available\n",
    "next_available = [0 for x in range(num_repz)]\n",
    "rep_busy = [[] for x in range(num_repz)]\n",
    "rep_customers = [[] for x in range(num_repz)]\n",
    "\n",
    "# \n",
    "for time_entry in range(len(call_in_time_list)):\n",
    "    #Find representative with next availability, i.e. the minimum expected time to re-enter the queue\n",
    "    index_of_prev_min = next_available.index(min(next_available))\n",
    "    # for this customer, they will get off the phone at next availble time index + call time\n",
    "    end_time = call_duration_list[time_entry] + max(min(next_available), call_in_time_list[time_entry])\n",
    "    # update the best (least busy) rep to take this call\n",
    "    next_available[index_of_prev_min] = end_time\n",
    "    # for the duration of the call, the rep is busy. record a list of only those busy times\n",
    "    rep_busy[index_of_prev_min].append([x for x in range(end_time - call_duration_list[time_entry], end_time)])\n",
    "    # The difference between What happened (next avail + call time) and What should have happened (call in time + call time) is the wait time. \n",
    "    wait_times_list.append( end_time - (call_duration_list[time_entry] + call_in_time_list[time_entry]))\n",
    "    # assign customer to rep\n",
    "    rep_customers[index_of_prev_min].append(time_entry)"
   ]
  },
  {
   "cell_type": "code",
   "execution_count": null,
   "metadata": {},
   "outputs": [],
   "source": [
    "%%time\n",
    "#45 ms before this point w/ standard config\n",
    "# This cell wants to grow in time quite rapidly with number of customers\n",
    "df_customers = pd.DataFrame([wait_times_list, call_in_time_list, call_duration_list], index=['wait_time', 'call_in', 'call_duration']).T\n",
    "df_reps = pd.DataFrame([rep_busy, rep_customers], index = ['busy_times', 'assigned_customers'])\n",
    "\n",
    "_max_time_periods = time_periodz + max(call_duration_list)\n",
    "df_txn_log = pd.DataFrame(index=[x for x in range (_max_time_periods)], columns= ['rep_' + str(i) for i in range(1, num_repz+1)])\n",
    "for i in range(len(df_txn_log.columns)):\n",
    "    df_txn_log.iloc[:, i]  = [1 if x in list(itertools.chain.from_iterable(df_reps.at['busy_times', i])) else 0 for x in range(_max_time_periods)]\n",
    "#print(next_available)\n",
    "#print(wait_times_list)\n",
    "#print(rep_busy)\n",
    "# Calculate q size?"
   ]
  },
  {
   "cell_type": "code",
   "execution_count": null,
   "metadata": {},
   "outputs": [],
   "source": [
    "# deque for q stuff"
   ]
  },
  {
   "cell_type": "code",
   "execution_count": null,
   "metadata": {},
   "outputs": [],
   "source": [
    "# import seaborn as sns\n",
    "# sns.heatmap(df_txn_log.values)"
   ]
  },
  {
   "cell_type": "code",
   "execution_count": null,
   "metadata": {},
   "outputs": [],
   "source": [
    "df_customers.wait_time.describe()"
   ]
  },
  {
   "cell_type": "markdown",
   "metadata": {},
   "source": [
    "# Gut check"
   ]
  },
  {
   "cell_type": "code",
   "execution_count": null,
   "metadata": {},
   "outputs": [],
   "source": [
    "df_txn_log.sum().sum() / sum(call_duration_list) "
   ]
  },
  {
   "cell_type": "code",
   "execution_count": null,
   "metadata": {},
   "outputs": [],
   "source": [
    "sum(call_duration_list) == df_txn_log.sum().sum()"
   ]
  },
  {
   "cell_type": "code",
   "execution_count": null,
   "metadata": {},
   "outputs": [],
   "source": [
    "sns.heatmap(pd.DataFrame(df_txn_log.sum().T) / df_txn_log.shape[0])"
   ]
  },
  {
   "cell_type": "code",
   "execution_count": null,
   "metadata": {},
   "outputs": [],
   "source": [
    "max(([\"{0:.2f}%\".format(x) for x in (100* df_txn_log.sum().T / df_txn_log.shape[0])]))"
   ]
  },
  {
   "cell_type": "code",
   "execution_count": null,
   "metadata": {},
   "outputs": [],
   "source": [
    "(100* df_txn_log.sum().T / df_txn_log.shape[0]).mean()\n",
    "\n",
    "# num customers = num periods = 25*60*10 with reps == \n",
    "# 25: 12 %\n",
    "# 15: 20 %, max 21.08%\n",
    "# 10: 29.9% max 31.64\n",
    "# 5: 59.88% max 63.65"
   ]
  },
  {
   "cell_type": "code",
   "execution_count": null,
   "metadata": {},
   "outputs": [],
   "source": [
    "sum(call_duration_list)"
   ]
  },
  {
   "cell_type": "code",
   "execution_count": null,
   "metadata": {},
   "outputs": [],
   "source": []
  },
  {
   "cell_type": "code",
   "execution_count": null,
   "metadata": {},
   "outputs": [],
   "source": []
  }
 ],
 "metadata": {
  "kernelspec": {
   "display_name": "Python 3",
   "language": "python",
   "name": "python3"
  },
  "language_info": {
   "codemirror_mode": {
    "name": "ipython",
    "version": 3
   },
   "file_extension": ".py",
   "mimetype": "text/x-python",
   "name": "python",
   "nbconvert_exporter": "python",
   "pygments_lexer": "ipython3",
   "version": "3.6.7"
  }
 },
 "nbformat": 4,
 "nbformat_minor": 2
}
