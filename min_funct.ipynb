{
 "cells": [
  {
   "cell_type": "code",
   "execution_count": 3,
   "metadata": {},
   "outputs": [
    {
     "data": {
      "text/html": [
       "<style>.container { width:90% !important; }</style>"
      ],
      "text/plain": [
       "<IPython.core.display.HTML object>"
      ]
     },
     "metadata": {},
     "output_type": "display_data"
    }
   ],
   "source": [
    "# Custom style\n",
    "from IPython.core.display import display, HTML\n",
    "display(HTML(\"<style>.container { width:90% !important; }</style>\"))"
   ]
  },
  {
   "cell_type": "code",
   "execution_count": 22,
   "metadata": {},
   "outputs": [
    {
     "name": "stdout",
     "output_type": "stream",
     "text": [
      "[1]\n",
      "[]\n",
      "[0, 0]\n"
     ]
    }
   ],
   "source": [
    "call_in_time_list =  [1, 2]\n",
    "call_duration_list = [2, 2]\n",
    "wait_times_list = []\n",
    "available_reps = [\"john\", \"cena\"]\n",
    "unavailable_reps = []\n",
    "next_available = [0, 0]\n",
    "\n",
    "# for time_entry in range(len(call_in_time_list)):\n",
    "#     process_available_representative(available_reps, unavailable_reps, call_in_time_list[time_entry])\n",
    "#     process_customer(call_in_time_list[time_entry], call_in_time_list[time_entry], wait_times_list)\n",
    "#     if time_entry > (call_in_time_list[time_entry] )\n",
    "#         process_unavailable_representative(available_reps, unavailable_reps)\n",
    "        \n",
    "        \n",
    "for time_entry in range(len(call_in_time_list)):\n",
    "    unavailable_reps.append(available_reps.pop(0))\n",
    "    wait_times_list.append(phone_answered - call_in_time)\n",
    "    nex_available[]\n",
    "    \n",
    "print(available_reps)\n",
    "print(unavailable_reps)\n",
    "print(wait_times_list)"
   ]
  },
  {
   "cell_type": "code",
   "execution_count": 16,
   "metadata": {},
   "outputs": [],
   "source": [
    "def process_customer(call_in_time, phone_answered, wait_times_list):\n",
    "    wait_times_list.append(phone_answered - call_in_time)\n",
    "\n",
    "def process_available_representative(available_reps, unavailable_reps, time):\n",
    "    unavailable_reps.append(available_reps.pop(0))\n",
    "    \n",
    "    \n",
    "def process_unavailable_representative(available_reps, unavailable_reps):\n",
    "    available_reps.append(unavailable_reps.pop(0))"
   ]
  },
  {
   "cell_type": "markdown",
   "metadata": {},
   "source": [
    "# As Array"
   ]
  },
  {
   "cell_type": "code",
   "execution_count": 38,
   "metadata": {},
   "outputs": [],
   "source": [
    "\n",
    "\n",
    "        "
   ]
  },
  {
   "cell_type": "code",
   "execution_count": 47,
   "metadata": {},
   "outputs": [
    {
     "name": "stdout",
     "output_type": "stream",
     "text": [
      "[5, 4]\n",
      "[0, 0, 0]\n"
     ]
    }
   ],
   "source": [
    "call_in_time_list =  [1, 2, 3]\n",
    "call_duration_list = [3, 2, 2]\n",
    "wait_times_list = []\n",
    "next_available = [0, 0]\n",
    "\n",
    "for time_entry in range(len(call_in_time_list)):\n",
    "    end_time = call_in_time_list[time_entry] + call_duration_list[time_entry]\n",
    "    next_available[next_available.index(min(next_available))] = end_time\n",
    "    wait_times_list.append( end_time - call_duration_list[time_entry] - call_in_time_list[time_entry])\n",
    "    \n",
    "print(next_available)\n",
    "print(wait_times_list)"
   ]
  },
  {
   "cell_type": "code",
   "execution_count": null,
   "metadata": {},
   "outputs": [],
   "source": [
    "next"
   ]
  },
  {
   "cell_type": "code",
   "execution_count": null,
   "metadata": {},
   "outputs": [],
   "source": []
  },
  {
   "cell_type": "code",
   "execution_count": null,
   "metadata": {},
   "outputs": [],
   "source": []
  }
 ],
 "metadata": {
  "kernelspec": {
   "display_name": "Python 3",
   "language": "python",
   "name": "python3"
  },
  "language_info": {
   "codemirror_mode": {
    "name": "ipython",
    "version": 3
   },
   "file_extension": ".py",
   "mimetype": "text/x-python",
   "name": "python",
   "nbconvert_exporter": "python",
   "pygments_lexer": "ipython3",
   "version": "3.6.7"
  }
 },
 "nbformat": 4,
 "nbformat_minor": 2
}
