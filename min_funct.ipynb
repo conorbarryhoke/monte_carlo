{
 "cells": [
  {
   "cell_type": "code",
   "execution_count": 3,
   "metadata": {},
   "outputs": [
    {
     "data": {
      "text/html": [
       "<style>.container { width:90% !important; }</style>"
      ],
      "text/plain": [
       "<IPython.core.display.HTML object>"
      ]
     },
     "metadata": {},
     "output_type": "display_data"
    }
   ],
   "source": [
    "# Custom style\n",
    "from IPython.core.display import display, HTML\n",
    "display(HTML(\"<style>.container { width:90% !important; }</style>\"))"
   ]
  },
  {
   "cell_type": "code",
   "execution_count": 161,
   "metadata": {},
   "outputs": [],
   "source": [
    "import pandas as pd\n",
    "import itertools\n",
    "import numpy as np"
   ]
  },
  {
   "cell_type": "code",
   "execution_count": 76,
   "metadata": {},
   "outputs": [
    {
     "data": {
      "text/plain": [
       "0"
      ]
     },
     "execution_count": 76,
     "metadata": {},
     "output_type": "execute_result"
    }
   ],
   "source": [
    "# import os\n",
    "# os.system(\"git add . && git commit -m 'solved for lists' && git push\")"
   ]
  },
  {
   "cell_type": "code",
   "execution_count": 194,
   "metadata": {},
   "outputs": [],
   "source": [
    "num_customerz = 10*24\n",
    "time_periodz = 24*60\n",
    "num_repz = 4"
   ]
  },
  {
   "cell_type": "code",
   "execution_count": 214,
   "metadata": {},
   "outputs": [
    {
     "name": "stdout",
     "output_type": "stream",
     "text": [
      "CPU times: user 162 ms, sys: 0 ns, total: 162 ms\n",
      "Wall time: 159 ms\n"
     ]
    }
   ],
   "source": [
    "%%time\n",
    "call_in_time_list =  [np.random.choice(range(1,time_periodz)) for i in range(num_customerz)]\n",
    "call_in_time_list.sort()\n",
    "\n",
    "call_duration_list = [5 for i in range(num_customerz)] #np.random.choice([1,2,3,4,5])\n",
    "wait_times_list = []\n",
    "next_available = [0 for x in range(num_repz)]\n",
    "rep_busy = [[] for x in range(num_repz)]\n",
    "rep_customers = [[] for x in range(num_repz)]\n",
    "\n",
    "\n",
    "for time_entry in range(len(call_in_time_list)):\n",
    "    index_of_prev_min = next_available.index(min(next_available))\n",
    "    end_time = call_duration_list[time_entry] + max(min(next_available), call_in_time_list[time_entry])\n",
    "    \n",
    "    \n",
    "    next_available[index_of_prev_min] = end_time\n",
    "    rep_busy[index_of_prev_min].append([x for x in range(end_time - call_duration_list[time_entry], end_time)])\n",
    "    wait_times_list.append( end_time - (call_duration_list[time_entry] + call_in_time_list[time_entry]))\n",
    "    rep_customers[index_of_prev_min].append(time_entry)\n",
    "\n",
    "#45 ms before this point w/ standard config\n",
    "df_customers = pd.DataFrame([wait_times_list, call_in_time_list, call_duration_list], index=['wait_time', 'call_in', 'call_duration']).T\n",
    "df_reps = pd.DataFrame([rep_busy, rep_customers], index = ['busy_times', 'assigned_customers'])\n",
    "df_txn_log = pd.DataFrame(index=[x for x in range (time_periodz)], columns= ['rep_' + str(i) for i in range(1, num_repz+1)])\n",
    "for i in range(len(df_txn_log.columns)):\n",
    "    df_txn_log.iloc[:, i]  = [1 if x in list(itertools.chain.from_iterable(df_reps.at['busy_times', i])) else 0 for x in range(time_periodz)]\n",
    "#print(next_available)\n",
    "#print(wait_times_list)\n",
    "#print(rep_busy)\n",
    "# Calculate q size?"
   ]
  },
  {
   "cell_type": "code",
   "execution_count": 215,
   "metadata": {},
   "outputs": [],
   "source": [
    "# deque for q stuff"
   ]
  },
  {
   "cell_type": "code",
   "execution_count": 216,
   "metadata": {},
   "outputs": [],
   "source": [
    "# import seaborn as sns\n",
    "# sns.heatmap(df_txn_log.values)"
   ]
  },
  {
   "cell_type": "code",
   "execution_count": 217,
   "metadata": {},
   "outputs": [
    {
     "data": {
      "text/html": [
       "<div>\n",
       "<style scoped>\n",
       "    .dataframe tbody tr th:only-of-type {\n",
       "        vertical-align: middle;\n",
       "    }\n",
       "\n",
       "    .dataframe tbody tr th {\n",
       "        vertical-align: top;\n",
       "    }\n",
       "\n",
       "    .dataframe thead th {\n",
       "        text-align: right;\n",
       "    }\n",
       "</style>\n",
       "<table border=\"1\" class=\"dataframe\">\n",
       "  <thead>\n",
       "    <tr style=\"text-align: right;\">\n",
       "      <th></th>\n",
       "      <th>rep_1</th>\n",
       "      <th>rep_2</th>\n",
       "      <th>rep_3</th>\n",
       "      <th>rep_4</th>\n",
       "    </tr>\n",
       "  </thead>\n",
       "  <tbody>\n",
       "    <tr>\n",
       "      <th>0</th>\n",
       "      <td>0</td>\n",
       "      <td>0</td>\n",
       "      <td>0</td>\n",
       "      <td>0</td>\n",
       "    </tr>\n",
       "    <tr>\n",
       "      <th>1</th>\n",
       "      <td>0</td>\n",
       "      <td>0</td>\n",
       "      <td>0</td>\n",
       "      <td>0</td>\n",
       "    </tr>\n",
       "    <tr>\n",
       "      <th>2</th>\n",
       "      <td>0</td>\n",
       "      <td>0</td>\n",
       "      <td>0</td>\n",
       "      <td>0</td>\n",
       "    </tr>\n",
       "    <tr>\n",
       "      <th>3</th>\n",
       "      <td>1</td>\n",
       "      <td>0</td>\n",
       "      <td>0</td>\n",
       "      <td>0</td>\n",
       "    </tr>\n",
       "    <tr>\n",
       "      <th>4</th>\n",
       "      <td>1</td>\n",
       "      <td>0</td>\n",
       "      <td>0</td>\n",
       "      <td>0</td>\n",
       "    </tr>\n",
       "  </tbody>\n",
       "</table>\n",
       "</div>"
      ],
      "text/plain": [
       "   rep_1  rep_2  rep_3  rep_4\n",
       "0      0      0      0      0\n",
       "1      0      0      0      0\n",
       "2      0      0      0      0\n",
       "3      1      0      0      0\n",
       "4      1      0      0      0"
      ]
     },
     "execution_count": 217,
     "metadata": {},
     "output_type": "execute_result"
    }
   ],
   "source": [
    "df_txn_log.head()"
   ]
  },
  {
   "cell_type": "code",
   "execution_count": 218,
   "metadata": {},
   "outputs": [
    {
     "data": {
      "text/plain": [
       "0.9975"
      ]
     },
     "execution_count": 218,
     "metadata": {},
     "output_type": "execute_result"
    }
   ],
   "source": [
    "df_txn_log.sum().sum() / sum(call_duration_list) "
   ]
  },
  {
   "cell_type": "code",
   "execution_count": 221,
   "metadata": {},
   "outputs": [
    {
     "data": {
      "text/plain": [
       "400.0000000000085"
      ]
     },
     "execution_count": 221,
     "metadata": {},
     "output_type": "execute_result"
    }
   ],
   "source": [
    "1 / (1-.9975)"
   ]
  },
  {
   "cell_type": "code",
   "execution_count": 224,
   "metadata": {},
   "outputs": [
    {
     "data": {
      "text/plain": [
       "3.5999999999999233"
      ]
     },
     "execution_count": 224,
     "metadata": {},
     "output_type": "execute_result"
    }
   ],
   "source": [
    "df_txn_log.shape[0] * (1-.9975)"
   ]
  }
 ],
 "metadata": {
  "kernelspec": {
   "display_name": "Python 3",
   "language": "python",
   "name": "python3"
  },
  "language_info": {
   "codemirror_mode": {
    "name": "ipython",
    "version": 3
   },
   "file_extension": ".py",
   "mimetype": "text/x-python",
   "name": "python",
   "nbconvert_exporter": "python",
   "pygments_lexer": "ipython3",
   "version": "3.6.7"
  }
 },
 "nbformat": 4,
 "nbformat_minor": 2
}
